{
 "cells": [
  {
   "cell_type": "code",
   "execution_count": 2,
   "id": "157da0cb",
   "metadata": {},
   "outputs": [],
   "source": [
    "import numpy as np"
   ]
  },
  {
   "cell_type": "code",
   "execution_count": 3,
   "id": "99418ec8",
   "metadata": {},
   "outputs": [
    {
     "name": "stdout",
     "output_type": "stream",
     "text": [
      "2.3.3\n"
     ]
    }
   ],
   "source": [
    "print(np.__version__)"
   ]
  },
  {
   "cell_type": "code",
   "execution_count": 4,
   "id": "6e62b626",
   "metadata": {},
   "outputs": [],
   "source": [
    "notifications = [132,535,645,7546,324,234,453]"
   ]
  },
  {
   "cell_type": "code",
   "execution_count": 5,
   "id": "702e68c2",
   "metadata": {},
   "outputs": [
    {
     "name": "stdout",
     "output_type": "stream",
     "text": [
      "-55272\n"
     ]
    }
   ],
   "source": [
    "population = np.array([\n",
    "  19571216,\n",
    "  19673200, \n",
    "  19854526, \n",
    "  20104710, \n",
    "  19463131, \n",
    "  19544098, \n",
    "  19593849, \n",
    "  19636391, \n",
    "  19657321, \n",
    "  19653431, \n",
    "  19626488\n",
    "])\n",
    "recent_population = population[0]\n",
    "first_population = population[-1]\n",
    "difference = recent_population - first_population\n",
    "print(difference)"
   ]
  },
  {
   "cell_type": "code",
   "execution_count": 6,
   "id": "f3a8acb7",
   "metadata": {},
   "outputs": [],
   "source": [
    "egg_carton1 = np.array([\n",
    "  [0.89, 0.90, 0.83, 0.89, 0.97, 0.98], \n",
    "  [0.95, 0.95, 0.89, 0.95, 0.23, 0.99]\n",
    "])\n",
    "\n",
    "egg_carton2 = np.array([\n",
    "  [0.89, 0.95, 0.84, 0.92, 0.94, 0.93], \n",
    "  [0.93, 0.95, 0.02, 0.03, 0.23, 0.99]\n",
    "])\n",
    "\n",
    "egg_carton3 = np.array([\n",
    "  [0.83, 0.95, 0.89, 0.54, 0.37, 0.92], \n",
    "  [0.98, 0.99, 0.19, 0.23, 0.89, 0.91]\n",
    "])"
   ]
  },
  {
   "cell_type": "code",
   "execution_count": 7,
   "id": "4a2df949",
   "metadata": {},
   "outputs": [
    {
     "data": {
      "text/plain": [
       "np.float64(0.8683333333333333)"
      ]
     },
     "execution_count": 7,
     "metadata": {},
     "output_type": "execute_result"
    }
   ],
   "source": [
    "np.average(egg_carton1)"
   ]
  },
  {
   "cell_type": "code",
   "execution_count": 8,
   "id": "20649f4d",
   "metadata": {},
   "outputs": [
    {
     "data": {
      "text/plain": [
       "np.float64(0.7183333333333333)"
      ]
     },
     "execution_count": 8,
     "metadata": {},
     "output_type": "execute_result"
    }
   ],
   "source": [
    "np.average(egg_carton2)"
   ]
  },
  {
   "cell_type": "code",
   "execution_count": 9,
   "id": "e3746e23",
   "metadata": {},
   "outputs": [
    {
     "data": {
      "text/plain": [
       "np.float64(0.7241666666666666)"
      ]
     },
     "execution_count": 9,
     "metadata": {},
     "output_type": "execute_result"
    }
   ],
   "source": [
    "np.average(egg_carton3)"
   ]
  },
  {
   "cell_type": "code",
   "execution_count": 10,
   "id": "fb3e96ca",
   "metadata": {},
   "outputs": [],
   "source": [
    "tallest_buildings = np.array([2717, 2227, 2073, 1972, 1966, 1819, 1776])"
   ]
  },
  {
   "cell_type": "code",
   "execution_count": 11,
   "id": "c4cb0c4f",
   "metadata": {},
   "outputs": [],
   "source": [
    "tallest_buildings_meters = tallest_buildings * 0.3048"
   ]
  },
  {
   "cell_type": "code",
   "execution_count": 12,
   "id": "c858cd45",
   "metadata": {},
   "outputs": [
    {
     "data": {
      "text/plain": [
       "array([828.1416, 678.7896, 631.8504, 601.0656, 599.2368, 554.4312,\n",
       "       541.3248])"
      ]
     },
     "execution_count": 12,
     "metadata": {},
     "output_type": "execute_result"
    }
   ],
   "source": [
    "tallest_buildings_meters"
   ]
  },
  {
   "cell_type": "code",
   "execution_count": null,
   "id": "825dc0e6",
   "metadata": {},
   "outputs": [],
   "source": []
  }
 ],
 "metadata": {
  "kernelspec": {
   "display_name": "Python 3",
   "language": "python",
   "name": "python3"
  },
  "language_info": {
   "codemirror_mode": {
    "name": "ipython",
    "version": 3
   },
   "file_extension": ".py",
   "mimetype": "text/x-python",
   "name": "python",
   "nbconvert_exporter": "python",
   "pygments_lexer": "ipython3",
   "version": "3.13.7"
  }
 },
 "nbformat": 4,
 "nbformat_minor": 5
}
